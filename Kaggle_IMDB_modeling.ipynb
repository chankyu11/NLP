{
 "cells": [
  {
   "cell_type": "markdown",
   "metadata": {},
   "source": [
    "### 모델링"
   ]
  },
  {
   "cell_type": "markdown",
   "metadata": {},
   "source": [
    "\n",
    "#### TF-IDF를 활용한 모델\n"
   ]
  },
  {
   "cell_type": "code",
   "execution_count": 2,
   "metadata": {},
   "outputs": [],
   "source": [
    "import numpy as np \n",
    "import pandas as pd\n",
    "import os\n",
    "import matplotlib.pyplot as plt\n",
    "import seaborn as sns\n",
    "%matplotlib inline"
   ]
  },
  {
   "cell_type": "code",
   "execution_count": 3,
   "metadata": {},
   "outputs": [],
   "source": [
    "import re\n",
    "import json\n",
    "import pandas as pd\n",
    "import numpy as np\n",
    "from bs4 import BeautifulSoup\n",
    "from nltk.corpus import stopwords\n",
    "from tensorflow.python.keras.preprocessing.sequence import pad_sequences\n",
    "from tensorflow.python.keras.preprocessing.text import Tokenizer"
   ]
  },
  {
   "cell_type": "code",
   "execution_count": 4,
   "metadata": {},
   "outputs": [],
   "source": [
    "data_path = 'C:/Users/bitcamp/Desktop/NLP/NLP/tensorflow-ml-nlp-tf2/4.TEXT_CLASSIFICATION/data_in/'\n",
    "train_clean_data = 'train_clean.csv'\n",
    "train_data = pd.read_csv(data_path + train_clean_data, header = 0)\n"
   ]
  },
  {
   "cell_type": "code",
   "execution_count": 5,
   "metadata": {},
   "outputs": [],
   "source": [
    "reviews = list(train_data['review'])\n",
    "sentiments = list(train_data['sentiment'])"
   ]
  },
  {
   "cell_type": "code",
   "execution_count": 6,
   "metadata": {},
   "outputs": [
    {
     "name": "stdout",
     "output_type": "stream",
     "text": [
      "(25000, 2)\n"
     ]
    }
   ],
   "source": [
    "print(train_data.shape)"
   ]
  },
  {
   "cell_type": "code",
   "execution_count": 7,
   "metadata": {},
   "outputs": [],
   "source": [
    "from sklearn.feature_extraction.text import TfidfVectorizer"
   ]
  },
  {
   "cell_type": "markdown",
   "metadata": {},
   "source": [
    "### https://chan-lab.tistory.com/27\n",
    "\n",
    "#### min_df =  최소 빈도값 설정.\n",
    "#### analyzer = 는 크게 두가지 'word', 'char' word는 학습단위로 단어를 char은 글자\n",
    "#### sublinear_tf = 값의 스무딩 여부를 결정.\n",
    "#### ngram_range = 단어의 묶음을 말함. ngram_range(1,1) 단어의 묶음을 1개부터 1개까지 \n",
    "#### max_features = features의 크기를 제한"
   ]
  },
  {
   "cell_type": "code",
   "execution_count": 8,
   "metadata": {},
   "outputs": [
    {
     "name": "stdout",
     "output_type": "stream",
     "text": [
      "  (0, 2438)\t0.019124393661517778\n",
      "  (0, 147)\t0.014386536461969144\n",
      "  (0, 3451)\t0.023470394899376395\n",
      "  (0, 3291)\t0.021033351664016636\n",
      "  (0, 109)\t0.013246698478899236\n",
      "  (0, 524)\t0.0189994752370753\n",
      "  (0, 1982)\t0.03647837010056725\n",
      "  (0, 2500)\t0.023983691074172406\n",
      "  (0, 4142)\t0.017298110578245086\n",
      "  (0, 2330)\t0.019720953426820724\n",
      "  (0, 877)\t0.024647733930689572\n",
      "  (0, 1999)\t0.019344769593043414\n",
      "  (0, 227)\t0.014537297382228958\n",
      "  (0, 966)\t0.017375417366561813\n",
      "  (0, 3481)\t0.0302673439409688\n",
      "  (0, 4493)\t0.03155689512192274\n",
      "  (0, 4318)\t0.03186899853807077\n",
      "  (0, 2700)\t0.027795734822283074\n",
      "  (0, 4282)\t0.020254183639864205\n",
      "  (0, 4827)\t0.029812871430277672\n",
      "  (0, 1479)\t0.02349975175760855\n",
      "  (0, 3578)\t0.020572702564291553\n",
      "  (0, 2189)\t0.02060619475383565\n",
      "  (0, 1295)\t0.028264926097956812\n",
      "  (0, 4135)\t0.017441826408691803\n",
      "  :\t:\n",
      "  (0, 4562)\t0.03001653177274672\n",
      "  (0, 3402)\t0.03787547060081465\n",
      "  (0, 614)\t0.03461938905685094\n",
      "  (0, 2277)\t0.0340289880401106\n",
      "  (0, 4949)\t0.015777811576590563\n",
      "  (0, 4834)\t0.03836482875414161\n",
      "  (0, 1776)\t0.03832801750038326\n",
      "  (0, 4640)\t0.03606751313892425\n",
      "  (0, 772)\t0.04208928002687362\n",
      "  (0, 2396)\t0.04529752186392338\n",
      "  (0, 958)\t0.040782251669011615\n",
      "  (0, 3572)\t0.043470981570003\n",
      "  (0, 294)\t0.04659874176866104\n",
      "  (0, 2225)\t0.04703917716139296\n",
      "  (0, 1153)\t0.05168494732293646\n",
      "  (0, 2627)\t0.04304829623020372\n",
      "  (0, 2804)\t0.04640415994477515\n",
      "  (0, 1951)\t0.04618604633963838\n",
      "  (0, 3083)\t0.04607968754973089\n",
      "  (0, 1619)\t0.04040337049883749\n",
      "  (0, 0)\t0.05466040778121597\n",
      "  (0, 1493)\t0.03314495265227625\n",
      "  (0, 4337)\t0.04001308835469647\n",
      "  (0, 4129)\t0.04607784447281327\n",
      "  (0, 3881)\t0.045061472393591186\n"
     ]
    }
   ],
   "source": [
    "vector = TfidfVectorizer(min_df = 0.0, analyzer = \"char\", sublinear_tf = True, ngram_range = (1,3), max_features = 5000)\n",
    "\n",
    "x = vector.fit_transform(reviews)\n",
    "\n",
    "print(x[0])"
   ]
  },
  {
   "cell_type": "code",
   "execution_count": 9,
   "metadata": {},
   "outputs": [],
   "source": [
    "from sklearn.model_selection import train_test_split"
   ]
  },
  {
   "cell_type": "code",
   "execution_count": 10,
   "metadata": {},
   "outputs": [],
   "source": [
    "random_seed = 42\n",
    "test_split = 0.2\n",
    "\n",
    "y = np.array(sentiments)\n",
    "\n",
    "x_train, x_test, y_train, y_test = train_test_split(x, y, test_size = test_split,\n",
    "                                                   random_state = random_seed)"
   ]
  },
  {
   "cell_type": "code",
   "execution_count": 11,
   "metadata": {},
   "outputs": [
    {
     "name": "stdout",
     "output_type": "stream",
     "text": [
      "(20000, 5000)\n",
      "(20000,)\n",
      "(5000, 5000)\n",
      "(5000,)\n"
     ]
    }
   ],
   "source": [
    "print(x_train.shape)\n",
    "print(y_train.shape)\n",
    "print(x_test.shape)\n",
    "print(y_test.shape)"
   ]
  },
  {
   "cell_type": "code",
   "execution_count": 12,
   "metadata": {},
   "outputs": [],
   "source": [
    "from sklearn.linear_model import LogisticRegression"
   ]
  },
  {
   "cell_type": "code",
   "execution_count": 13,
   "metadata": {},
   "outputs": [
    {
     "name": "stdout",
     "output_type": "stream",
     "text": [
      "Acc: 0.859800\n"
     ]
    }
   ],
   "source": [
    "lgs = LogisticRegression(class_weight = 'balanced')\n",
    "lgs.fit(x_train, y_train)\n",
    "\n",
    "print(\"Acc: %f\" %lgs.score(x_test, y_test))"
   ]
  },
  {
   "cell_type": "code",
   "execution_count": 14,
   "metadata": {},
   "outputs": [],
   "source": [
    "test_data = 'test_clean.csv'\n",
    "\n",
    "test_data = pd.read_csv(data_path + test_data, header = 0)"
   ]
  },
  {
   "cell_type": "code",
   "execution_count": 15,
   "metadata": {},
   "outputs": [
    {
     "name": "stdout",
     "output_type": "stream",
     "text": [
      "[1 0 1 ... 0 1 0]\n"
     ]
    }
   ],
   "source": [
    "testdatavec = vector.transform(test_data['review'])\n",
    "\n",
    "test_predict = lgs.predict(testdatavec)\n",
    "print(test_predict)"
   ]
  },
  {
   "cell_type": "code",
   "execution_count": 16,
   "metadata": {},
   "outputs": [],
   "source": [
    "output = 'C:/Users/bitcamp/Desktop/NLP/NLP/tensorflow-ml-nlp-tf2/4.TEXT_CLASSIFICATION/output/'\n",
    "if not os.path.exists(output):\n",
    "    os.makedirs(output)\n",
    "answer_dataset = pd.DataFrame({'id': test_data['id'], 'sentiment': test_predict})\n",
    "answer_dataset.to_csv(output + 'lgs_tfidf.csv', index=False, quoting=3)"
   ]
  }
 ],
 "metadata": {
  "kernelspec": {
   "display_name": "Python 3",
   "language": "python",
   "name": "python3"
  },
  "language_info": {
   "codemirror_mode": {
    "name": "ipython",
    "version": 3
   },
   "file_extension": ".py",
   "mimetype": "text/x-python",
   "name": "python",
   "nbconvert_exporter": "python",
   "pygments_lexer": "ipython3",
   "version": "3.7.9"
  }
 },
 "nbformat": 4,
 "nbformat_minor": 4
}
