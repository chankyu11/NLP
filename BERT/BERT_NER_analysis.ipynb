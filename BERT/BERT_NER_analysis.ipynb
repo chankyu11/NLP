{
 "cells": [
  {
   "cell_type": "code",
   "execution_count": 1,
   "metadata": {},
   "outputs": [],
   "source": [
    "import numpy as np\n",
    "import pandas as pd\n",
    "import os\n",
    "import matplotlib.pyplot as plt\n",
    "import seaborn as sns\n",
    "from transformers import BertTokenizer\n",
    "from gluonnlp.data import SentencepieceTokenizer"
   ]
  },
  {
   "cell_type": "code",
   "execution_count": 8,
   "metadata": {},
   "outputs": [],
   "source": [
    "data_path = 'C:/nlp/tensorflow-ml-nlp-tf2/7.PRETRAIN_METHOD/data_in/KOR/NER/'\n",
    "op = \"C:/nlp/tensorflow-ml-nlp-tf2/7.PRETRAIN_METHOD/data_out/\"\n",
    "\n",
    "train_path = os.path.join(data_path, \"train.tsv\")\n",
    "test_path = os.path.join(data_path, \"test.tsv\")\n",
    "label_path = os.path.join(data_path, \"label.txt\")"
   ]
  },
  {
   "cell_type": "code",
   "execution_count": 14,
   "metadata": {},
   "outputs": [],
   "source": [
    "def read_file(input_path):\n",
    "    with open(input_path, \"r\", encoding=\"utf-8\") as f:\n",
    "        sentences = []\n",
    "        labels = []\n",
    "        for line in f:\n",
    "            split_line = line.strip().split(\"\\t\")\n",
    "            sentences.append(split_line[0])\n",
    "            labels.append(split_line[1])\n",
    "        return sentences, labels\n",
    "    \n",
    "train_sentences, train_labels = read_file(train_path)\n",
    "test_sentences, test_labels = read_file(test_path)\n",
    "ner_sentences = train_sentences + test_sentences\n",
    "ner_labels = train_labels + test_labels\n",
    "\n",
    "ner_dict = {\"sentence\": ner_sentences, \"label\": ner_labels}\n",
    "ner_df = pd.DataFrame(ner_dict)"
   ]
  },
  {
   "cell_type": "code",
   "execution_count": 19,
   "metadata": {},
   "outputs": [
    {
     "name": "stdout",
     "output_type": "stream",
     "text": [
      "ner_df: 90000\n"
     ]
    }
   ],
   "source": [
    "print(f'ner_df: {len(ner_df)}')"
   ]
  },
  {
   "cell_type": "code",
   "execution_count": 20,
   "metadata": {},
   "outputs": [
    {
     "data": {
      "text/html": [
       "<div>\n",
       "<style scoped>\n",
       "    .dataframe tbody tr th:only-of-type {\n",
       "        vertical-align: middle;\n",
       "    }\n",
       "\n",
       "    .dataframe tbody tr th {\n",
       "        vertical-align: top;\n",
       "    }\n",
       "\n",
       "    .dataframe thead th {\n",
       "        text-align: right;\n",
       "    }\n",
       "</style>\n",
       "<table border=\"1\" class=\"dataframe\">\n",
       "  <thead>\n",
       "    <tr style=\"text-align: right;\">\n",
       "      <th></th>\n",
       "      <th>sentence</th>\n",
       "      <th>label</th>\n",
       "    </tr>\n",
       "  </thead>\n",
       "  <tbody>\n",
       "    <tr>\n",
       "      <th>0</th>\n",
       "      <td>금석객잔 여러분, 감사드립니다 .</td>\n",
       "      <td>ORG-B O O O</td>\n",
       "    </tr>\n",
       "    <tr>\n",
       "      <th>1</th>\n",
       "      <td>이기범 한두 쪽을 먹고 10분 후쯤 화제인을 먹는 것이 좋다고 한다 .</td>\n",
       "      <td>PER-B O O O TIM-B TIM-I CVL-B O O O O O</td>\n",
       "    </tr>\n",
       "    <tr>\n",
       "      <th>2</th>\n",
       "      <td>7-8위 결정전에서 김중배 무스파타(샌안토니오)가 참은 법국을 누르고 유럽축구선수권...</td>\n",
       "      <td>EVT-B EVT-I PER-B PER-I O LOC-B O EVT-B CVL-B O O</td>\n",
       "    </tr>\n",
       "    <tr>\n",
       "      <th>3</th>\n",
       "      <td>스코틀랜드의 한 마을에서 보통하게 살고 있다는 이 기혼 남성의 시조가 유튜브 등에서...</td>\n",
       "      <td>LOC-B NUM-B NUM-I O O O O O O O O O O O O O CV...</td>\n",
       "    </tr>\n",
       "    <tr>\n",
       "      <th>4</th>\n",
       "      <td>보니까 저 옆에 사조가 있어요 .</td>\n",
       "      <td>O O O O O O</td>\n",
       "    </tr>\n",
       "    <tr>\n",
       "      <th>5</th>\n",
       "      <td>24회 최경운호의 좌익선상 28루타로 포문을 연 한화는 후속 서동원이 적시타를 날려...</td>\n",
       "      <td>NUM-B PER-B O NUM-B O O ORG-B O PER-B O O O O O</td>\n",
       "    </tr>\n",
       "    <tr>\n",
       "      <th>6</th>\n",
       "      <td>바둑선수가 묘하게 닮았는데요 .</td>\n",
       "      <td>CVL-B O O O</td>\n",
       "    </tr>\n",
       "    <tr>\n",
       "      <th>7</th>\n",
       "      <td>▲ '新플레이메이커' NO.7 박하성 - 1경기 30골30도움공수 운동경기가 풀리지...</td>\n",
       "      <td>O CVL-B NUM-B PER-B O NUM-B NUM-B O O O O O O ...</td>\n",
       "    </tr>\n",
       "    <tr>\n",
       "      <th>8</th>\n",
       "      <td>우려는 비현실이 됐다 .</td>\n",
       "      <td>O O O O</td>\n",
       "    </tr>\n",
       "    <tr>\n",
       "      <th>9</th>\n",
       "      <td>(이석무 귀재 smlee@mydaily.co.kr)</td>\n",
       "      <td>PER-B CVL-B TRM-B</td>\n",
       "    </tr>\n",
       "  </tbody>\n",
       "</table>\n",
       "</div>"
      ],
      "text/plain": [
       "                                            sentence  \\\n",
       "0                                 금석객잔 여러분, 감사드립니다 .   \n",
       "1            이기범 한두 쪽을 먹고 10분 후쯤 화제인을 먹는 것이 좋다고 한다 .   \n",
       "2  7-8위 결정전에서 김중배 무스파타(샌안토니오)가 참은 법국을 누르고 유럽축구선수권...   \n",
       "3  스코틀랜드의 한 마을에서 보통하게 살고 있다는 이 기혼 남성의 시조가 유튜브 등에서...   \n",
       "4                                 보니까 저 옆에 사조가 있어요 .   \n",
       "5  24회 최경운호의 좌익선상 28루타로 포문을 연 한화는 후속 서동원이 적시타를 날려...   \n",
       "6                                  바둑선수가 묘하게 닮았는데요 .   \n",
       "7  ▲ '新플레이메이커' NO.7 박하성 - 1경기 30골30도움공수 운동경기가 풀리지...   \n",
       "8                                      우려는 비현실이 됐다 .   \n",
       "9                       (이석무 귀재 smlee@mydaily.co.kr)   \n",
       "\n",
       "                                               label  \n",
       "0                                        ORG-B O O O  \n",
       "1            PER-B O O O TIM-B TIM-I CVL-B O O O O O  \n",
       "2  EVT-B EVT-I PER-B PER-I O LOC-B O EVT-B CVL-B O O  \n",
       "3  LOC-B NUM-B NUM-I O O O O O O O O O O O O O CV...  \n",
       "4                                        O O O O O O  \n",
       "5    NUM-B PER-B O NUM-B O O ORG-B O PER-B O O O O O  \n",
       "6                                        CVL-B O O O  \n",
       "7  O CVL-B NUM-B PER-B O NUM-B NUM-B O O O O O O ...  \n",
       "8                                            O O O O  \n",
       "9                                  PER-B CVL-B TRM-B  "
      ]
     },
     "execution_count": 20,
     "metadata": {},
     "output_type": "execute_result"
    }
   ],
   "source": [
    "ner_df.head(10)"
   ]
  },
  {
   "cell_type": "code",
   "execution_count": 22,
   "metadata": {},
   "outputs": [
    {
     "name": "stdout",
     "output_type": "stream",
     "text": [
      "유일한 총 문장 수 : 88703\n",
      "반복해서 나타나는 문장의 수: 288\n"
     ]
    }
   ],
   "source": [
    "train_set = pd.Series(ner_df[\"sentence\"].tolist())\n",
    "print(f'유일한 총 문장 수 : {(len(np.unique(train_set)))}')\n",
    "print(f'반복해서 나타나는 문장의 수: {np.sum(train_set.value_counts() > 1)}')"
   ]
  },
  {
   "cell_type": "code",
   "execution_count": 23,
   "metadata": {},
   "outputs": [],
   "source": [
    "train_word_counts = train_set.apply(lambda x: len(x.split(' ')))"
   ]
  },
  {
   "cell_type": "code",
   "execution_count": 50,
   "metadata": {},
   "outputs": [
    {
     "name": "stdout",
     "output_type": "stream",
     "text": [
      "문장 단어 개수 최대: 175\n",
      "문장 단어 개수 평균: 11.817456\n",
      "문장 단어 개수 표준편차: 7.033081\n",
      "문장 단어 개수 중간 값: 10.0\n",
      "문장 단어 개수 제 1사분위: 7.0\n",
      "문장 단어 개수 제 3사분위: 15.0\n",
      "문장 단어 개수 제 99%: 35.0\n"
     ]
    }
   ],
   "source": [
    "print(f'문장 단어 개수 최대: {np.max(train_word_counts)}')\n",
    "print(f'문장 단어 개수 평균: {np.mean(train_word_counts):2f}')\n",
    "print(f'문장 단어 개수 표준편차: {np.std(train_word_counts):2f}')\n",
    "print(f'문장 단어 개수 중간 값: {np.median(train_word_counts)}')\n",
    "print(f'문장 단어 개수 제 1사분위: {np.percentile(train_word_counts, 25)}')\n",
    "print(f'문장 단어 개수 제 3사분위: {np.percentile(train_word_counts, 75)}')\n",
    "print(f'문장 단어 개수 제 99%: {np.percentile(train_word_counts, 99)}')\n"
   ]
  },
  {
   "cell_type": "code",
   "execution_count": 38,
   "metadata": {},
   "outputs": [
    {
     "data": {
      "text/plain": [
       "Text(0, 0.5, 'Probability')"
      ]
     },
     "execution_count": 38,
     "metadata": {},
     "output_type": "execute_result"
    },
    {
     "data": {
      "image/png": "[encoded data removed]",
      "text/plain": [
       "<Figure size 1080x720 with 1 Axes>"
      ]
     },
     "metadata": {
      "needs_background": "light"
     },
     "output_type": "display_data"
    }
   ],
   "source": [
    "plt.figure(figsize = (15, 10))\n",
    "plt.hist(train_word_counts, bins = 50, range= [0, 50], facecolor = 'r', density=True, label='train')\n",
    "plt.title('Distribution of tokens count in sentence', fontsize=15)\n",
    "plt.legend()\n",
    "plt.xlabel('Number of tokens', fontsize=15)\n",
    "plt.ylabel('Probability', fontsize=15)"
   ]
  },
  {
   "cell_type": "code",
   "execution_count": 33,
   "metadata": {},
   "outputs": [
    {
     "data": {
      "text/plain": [
       "{'whiskers': [<matplotlib.lines.Line2D at 0x22244cd6c50>,\n",
       "  <matplotlib.lines.Line2D at 0x22244cd6f28>],\n",
       " 'caps': [<matplotlib.lines.Line2D at 0x22244ce5278>,\n",
       "  <matplotlib.lines.Line2D at 0x22244ce5550>],\n",
       " 'boxes': [<matplotlib.lines.Line2D at 0x22244cd6c18>],\n",
       " 'medians': [<matplotlib.lines.Line2D at 0x22244ce5828>],\n",
       " 'fliers': [<matplotlib.lines.Line2D at 0x22244ce5da0>],\n",
       " 'means': [<matplotlib.lines.Line2D at 0x22244cbf860>]}"
      ]
     },
     "execution_count": 33,
     "metadata": {},
     "output_type": "execute_result"
    },
    {
     "data": {
      "image/png": "[encoded data removed]",
      "text/plain": [
       "<Figure size 864x360 with 1 Axes>"
      ]
     },
     "metadata": {
      "needs_background": "light"
     },
     "output_type": "display_data"
    }
   ],
   "source": [
    "plt.figure(figsize=(12, 5))\n",
    "\n",
    "plt.boxplot(train_word_counts,\n",
    "             labels=['word counts'],\n",
    "             showmeans=True)"
   ]
  },
  {
   "cell_type": "code",
   "execution_count": 34,
   "metadata": {},
   "outputs": [],
   "source": [
    "tokenizer = BertTokenizer.from_pretrained(\"bert-base-multilingual-cased\", cache_dir = 'bert_ckpt', do_lower_case = False)"
   ]
  },
  {
   "cell_type": "code",
   "execution_count": 35,
   "metadata": {},
   "outputs": [],
   "source": [
    "train_bert_token = train_set.apply(lambda x:len(tokenizer.tokenize(x)))"
   ]
  },
  {
   "cell_type": "code",
   "execution_count": 37,
   "metadata": {},
   "outputs": [
    {
     "data": {
      "text/plain": [
       "Text(0, 0.5, 'Probability')"
      ]
     },
     "execution_count": 37,
     "metadata": {},
     "output_type": "execute_result"
    },
    {
     "data": {
      "image/png": "[encoded data removed]",
      "text/plain": [
       "<Figure size 1080x720 with 1 Axes>"
      ]
     },
     "metadata": {
      "needs_background": "light"
     },
     "output_type": "display_data"
    }
   ],
   "source": [
    "plt.figure(figsize=(15, 10))\n",
    "plt.hist(train_bert_token, bins=200, range=[0, 200], facecolor='r', density=True, label='train')\n",
    "plt.title('Distribution of tokens count in sentence', fontsize=15)\n",
    "plt.legend()\n",
    "plt.xlabel('Number of tokens', fontsize=15)\n",
    "plt.ylabel('Probability', fontsize=15)\n"
   ]
  },
  {
   "cell_type": "code",
   "execution_count": 40,
   "metadata": {},
   "outputs": [
    {
     "data": {
      "text/plain": [
       "{'whiskers': [<matplotlib.lines.Line2D at 0x22245b23710>,\n",
       "  <matplotlib.lines.Line2D at 0x22244d45860>],\n",
       " 'caps': [<matplotlib.lines.Line2D at 0x22244d45f28>,\n",
       "  <matplotlib.lines.Line2D at 0x22244d52240>],\n",
       " 'boxes': [<matplotlib.lines.Line2D at 0x22245b23438>],\n",
       " 'medians': [<matplotlib.lines.Line2D at 0x22244d61c50>],\n",
       " 'fliers': [<matplotlib.lines.Line2D at 0x22244d7f240>],\n",
       " 'means': [<matplotlib.lines.Line2D at 0x22244d6f240>]}"
      ]
     },
     "execution_count": 40,
     "metadata": {},
     "output_type": "execute_result"
    },
    {
     "data": {
      "image/png": "[encoded data removed]",
      "text/plain": [
       "<Figure size 864x360 with 1 Axes>"
      ]
     },
     "metadata": {
      "needs_background": "light"
     },
     "output_type": "display_data"
    }
   ],
   "source": [
    "plt.figure(figsize=(12, 5))\n",
    "\n",
    "plt.boxplot(train_bert_token,\n",
    "             labels=['counts'],\n",
    "             showmeans=True)"
   ]
  },
  {
   "cell_type": "code",
   "execution_count": 47,
   "metadata": {},
   "outputs": [
    {
     "name": "stdout",
     "output_type": "stream",
     "text": [
      "문장 token 개수 최대: 850\n",
      "문장 token 개수 평균: 33.62\n",
      "문장 token 개수 표준편차: 22.76\n",
      "문장 token 개수 중간 값: 28.0\n",
      "문장 token 개수 제 1사분위: 19.0\n",
      "문장 token 개수 제 3사분위: 41.0\n",
      "문장 token 개수 제 99%: 111.0\n"
     ]
    }
   ],
   "source": [
    "print(f'문장 token 개수 최대: {np.max(train_bert_token)}')\n",
    "print(f'문장 token 개수 평균: {np.mean(train_bert_token):.2f}')\n",
    "print(f'문장 token 개수 표준편차: {np.std(train_bert_token):.2f}')\n",
    "print(f'문장 token 개수 중간 값: {np.median(train_bert_token)}')\n",
    "print(f'문장 token 개수 제 1사분위: {np.percentile(train_bert_token, 25)}')\n",
    "print(f'문장 token 개수 제 3사분위: {np.percentile(train_bert_token, 75)}')\n",
    "print(f'문장 token 개수 제 99%: {np.percentile(train_bert_token, 99)}')"
   ]
  },
  {
   "cell_type": "code",
   "execution_count": null,
   "metadata": {},
   "outputs": [],
   "source": []
  }
 ],
 "metadata": {
  "kernelspec": {
   "display_name": "Python 3",
   "language": "python",
   "name": "python3"
  },
  "language_info": {
   "codemirror_mode": {
    "name": "ipython",
    "version": 3
   },
   "file_extension": ".py",
   "mimetype": "text/x-python",
   "name": "python",
   "nbconvert_exporter": "python",
   "pygments_lexer": "ipython3",
   "version": "3.7.0"
  }
 },
 "nbformat": 4,
 "nbformat_minor": 4
}
