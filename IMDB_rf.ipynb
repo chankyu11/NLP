{
 "cells": [
  {
   "cell_type": "markdown",
   "metadata": {},
   "source": [
    "## Random Forest"
   ]
  },
  {
   "cell_type": "code",
   "execution_count": 1,
   "metadata": {},
   "outputs": [],
   "source": [
    "import pandas as pd\n",
    "import numpy as np\n",
    "import os\n",
    "from sklearn.feature_extraction.text import CountVectorizer\n",
    "\n",
    "data_path = 'C:/Users/bitcamp/Desktop/NLP/NLP/tensorflow-ml-nlp-tf2/4.TEXT_CLASSIFICATION/data_in/'\n",
    "train_data ='train_clean.csv'\n",
    "\n",
    "train_data = pd.read_csv(data_path + train_data)\n",
    "\n",
    "\n",
    "reviews = list(train_data['review'])\n",
    "y = np.array(train_data['sentiment'])"
   ]
  },
  {
   "cell_type": "code",
   "execution_count": 2,
   "metadata": {},
   "outputs": [],
   "source": [
    "vector = CountVectorizer(analyzer='word', max_features = 5000)\n",
    "train_data_features = vector.fit_transform(reviews)\n"
   ]
  },
  {
   "cell_type": "code",
   "execution_count": 3,
   "metadata": {},
   "outputs": [
    {
     "data": {
      "text/plain": [
       "<25000x5000 sparse matrix of type '<class 'numpy.int64'>'\n",
       "\twith 1975048 stored elements in Compressed Sparse Row format>"
      ]
     },
     "execution_count": 3,
     "metadata": {},
     "output_type": "execute_result"
    }
   ],
   "source": [
    "train_data_features"
   ]
  },
  {
   "cell_type": "code",
   "execution_count": 6,
   "metadata": {},
   "outputs": [],
   "source": [
    "from sklearn.model_selection import train_test_split\n",
    "test_size = 0.2\n",
    "random_state = 42\n",
    "\n",
    "x_train, x_test, y_train, y_test = train_test_split(train_data_features, y, test_size = test_size\n",
    "                                                   , random_state = random_state)"
   ]
  },
  {
   "cell_type": "code",
   "execution_count": 7,
   "metadata": {},
   "outputs": [
    {
     "data": {
      "text/plain": [
       "RandomForestClassifier()"
      ]
     },
     "execution_count": 7,
     "metadata": {},
     "output_type": "execute_result"
    }
   ],
   "source": [
    "from sklearn.ensemble import RandomForestClassifier\n",
    "\n",
    "forest = RandomForestClassifier(n_estimators = 100)\n",
    "\n",
    "forest.fit(x_train, y_train)\n"
   ]
  },
  {
   "cell_type": "code",
   "execution_count": 8,
   "metadata": {},
   "outputs": [
    {
     "name": "stdout",
     "output_type": "stream",
     "text": [
      "Accuracy: 0.842000\n"
     ]
    }
   ],
   "source": [
    "print(\"Accuracy: %f\" %forest.score(x_test, y_test))"
   ]
  },
  {
   "cell_type": "markdown",
   "metadata": {},
   "source": [
    "### 검증"
   ]
  },
  {
   "cell_type": "code",
   "execution_count": 10,
   "metadata": {},
   "outputs": [],
   "source": [
    "test_clean_data = 'test_clean.csv'\n",
    "\n",
    "test_data = pd.read_csv(data_path + test_clean_data)\n",
    "\n",
    "test_reviews = list(test_data['review'])\n",
    "ids = list(test_data['id'])"
   ]
  },
  {
   "cell_type": "code",
   "execution_count": 13,
   "metadata": {},
   "outputs": [
    {
     "name": "stdout",
     "output_type": "stream",
     "text": [
      "naturally film main themes mortality nostalgia loss innocence perhaps surprising rated highly older viewers younger ones however craftsmanship completeness film anyone enjoy pace steady constant characters full engaging relationships interactions natural showing need floods tears show emotion screams show fear shouting show dispute violence show anger naturally joyce short story lends film ready made structure perfect polished diamond small changes huston makes inclusion poem fit neatly truly masterpiece tact subtlety overwhelming beauty\n",
      "\"12311_10\"\n"
     ]
    }
   ],
   "source": [
    "print(test_reviews[0])\n",
    "print(ids[0])"
   ]
  },
  {
   "cell_type": "code",
   "execution_count": 16,
   "metadata": {},
   "outputs": [],
   "source": [
    "test_data_features = vector.transform(test_reviews)"
   ]
  },
  {
   "cell_type": "code",
   "execution_count": 18,
   "metadata": {},
   "outputs": [
    {
     "name": "stdout",
     "output_type": "stream",
     "text": [
      "  (0, 174)\t1\n",
      "  (0, 199)\t1\n",
      "  (0, 372)\t1\n",
      "  (0, 696)\t1\n",
      "  (0, 705)\t1\n",
      "  (0, 915)\t1\n",
      "  (0, 1203)\t1\n",
      "  (0, 1419)\t1\n",
      "  (0, 1444)\t1\n",
      "  (0, 1447)\t1\n",
      "  (0, 1643)\t1\n",
      "  (0, 1685)\t3\n",
      "  (0, 1711)\t1\n",
      "  (0, 1819)\t1\n",
      "  (0, 2076)\t1\n",
      "  (0, 2149)\t1\n",
      "  (0, 2258)\t1\n",
      "  (0, 2630)\t1\n",
      "  (0, 2671)\t1\n",
      "  (0, 2682)\t1\n",
      "  (0, 2691)\t1\n",
      "  (0, 2740)\t1\n",
      "  (0, 2958)\t1\n",
      "  (0, 2959)\t2\n",
      "  (0, 2973)\t1\n",
      "  :\t:\n",
      "  (0, 3093)\t1\n",
      "  (0, 3138)\t1\n",
      "  (0, 3142)\t1\n",
      "  (0, 3211)\t1\n",
      "  (0, 3222)\t1\n",
      "  (0, 3303)\t1\n",
      "  (0, 3314)\t1\n",
      "  (0, 3525)\t1\n",
      "  (0, 3546)\t1\n",
      "  (0, 3600)\t1\n",
      "  (0, 3842)\t1\n",
      "  (0, 3962)\t1\n",
      "  (0, 3967)\t4\n",
      "  (0, 3972)\t1\n",
      "  (0, 4052)\t1\n",
      "  (0, 4230)\t1\n",
      "  (0, 4256)\t1\n",
      "  (0, 4288)\t1\n",
      "  (0, 4342)\t1\n",
      "  (0, 4409)\t1\n",
      "  (0, 4461)\t1\n",
      "  (0, 4611)\t1\n",
      "  (0, 4758)\t1\n",
      "  (0, 4766)\t1\n",
      "  (0, 4993)\t1\n"
     ]
    }
   ],
   "source": [
    "print(test_data_features[0])"
   ]
  },
  {
   "cell_type": "code",
   "execution_count": 20,
   "metadata": {},
   "outputs": [],
   "source": [
    "op = 'C:/Users/bitcamp/Desktop/NLP/NLP/tensorflow-ml-nlp-tf2/4.TEXT_CLASSIFICATION/output/'\n",
    "\n",
    "res = forest.predict(test_data_features)\n",
    "\n",
    "out = pd.DataFrame(data = {\"id\": ids, \"sentiment\": res})\n",
    "\n",
    "out.to_csv(op + \"RF_bag_of_word.csv\", index = False, quoting = 3)\n"
   ]
  },
  {
   "cell_type": "code",
   "execution_count": null,
   "metadata": {},
   "outputs": [],
   "source": []
  }
 ],
 "metadata": {
  "kernelspec": {
   "display_name": "Python 3",
   "language": "python",
   "name": "python3"
  },
  "language_info": {
   "codemirror_mode": {
    "name": "ipython",
    "version": 3
   },
   "file_extension": ".py",
   "mimetype": "text/x-python",
   "name": "python",
   "nbconvert_exporter": "python",
   "pygments_lexer": "ipython3",
   "version": "3.7.9"
  }
 },
 "nbformat": 4,
 "nbformat_minor": 4
}
