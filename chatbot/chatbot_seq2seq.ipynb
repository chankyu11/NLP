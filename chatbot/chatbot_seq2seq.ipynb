{
 "cells": [
  {
   "cell_type": "markdown",
   "metadata": {},
   "source": [
    "# 패키지 불러오기"
   ]
  },
  {
   "cell_type": "code",
   "execution_count": 1,
   "metadata": {},
   "outputs": [],
   "source": [
    "import tensorflow as tf\n",
    "import numpy as np\n",
    "import os\n",
    "\n",
    "from tensorflow.keras.callbacks import EarlyStopping, ModelCheckpoint\n",
    "import matplotlib.pyplot as plt\n",
    "\n",
    "from preprocess import *"
   ]
  },
  {
   "cell_type": "markdown",
   "metadata": {},
   "source": [
    "# 시각화 함수"
   ]
  },
  {
   "cell_type": "code",
   "execution_count": 2,
   "metadata": {},
   "outputs": [],
   "source": [
    "def plot_graphs(history, string):\n",
    "    plt.plot(history.history[string])\n",
    "    plt.plot(history.history['val_'+string], '')\n",
    "    plt.xlabel(\"Epochs\")\n",
    "    plt.ylabel(string)\n",
    "    plt.legend([string, 'val_'+string])\n",
    "    plt.show()"
   ]
  },
  {
   "cell_type": "markdown",
   "metadata": {},
   "source": [
    "# 학습 데이터 경로 정의"
   ]
  },
  {
   "cell_type": "code",
   "execution_count": 3,
   "metadata": {},
   "outputs": [],
   "source": [
    "DATA_IN_PATH = 'D:/nlp/tensorflow-ml-nlp-tf2/6.CHATBOT/data_in/'\n",
    "DATA_OUT_PATH = 'D:/nlp/tensorflow-ml-nlp-tf2/6.CHATBOT/data_out/'\n",
    "TRAIN_INPUTS = 'train_inputs_no_token.npy'\n",
    "TRAIN_OUTPUTS = 'train_outputs_no_token.npy'\n",
    "TRAIN_TARGETS = 'train_targets_no_token.npy'\n",
    "DATA_CONFIGS = 'data_configs_no_token.json'"
   ]
  },
  {
   "cell_type": "markdown",
   "metadata": {},
   "source": [
    "# 랜덤 시드 고정"
   ]
  },
  {
   "cell_type": "code",
   "execution_count": 4,
   "metadata": {},
   "outputs": [],
   "source": [
    "SEED_NUM = 1234\n",
    "tf.random.set_seed(SEED_NUM)"
   ]
  },
  {
   "cell_type": "markdown",
   "metadata": {},
   "source": [
    "# 파일 로드"
   ]
  },
  {
   "cell_type": "code",
   "execution_count": 5,
   "metadata": {},
   "outputs": [],
   "source": [
    "index_inputs = np.load(open(DATA_IN_PATH + TRAIN_INPUTS, 'rb'))\n",
    "index_outputs = np.load(open(DATA_IN_PATH + TRAIN_OUTPUTS , 'rb'))\n",
    "index_targets = np.load(open(DATA_IN_PATH + TRAIN_TARGETS , 'rb'))\n",
    "prepro_configs = json.load(open(DATA_IN_PATH + DATA_CONFIGS, 'r'))"
   ]
  },
  {
   "cell_type": "code",
   "execution_count": 6,
   "metadata": {},
   "outputs": [
    {
     "name": "stdout",
     "output_type": "stream",
     "text": [
      "11823 11823 11823\n"
     ]
    }
   ],
   "source": [
    "# Show length\n",
    "print(len(index_inputs),  len(index_outputs), len(index_targets))"
   ]
  },
  {
   "cell_type": "code",
   "execution_count": 7,
   "metadata": {},
   "outputs": [
    {
     "name": "stdout",
     "output_type": "stream",
     "text": [
      "(11823, 25)\n",
      "(11823, 25)\n",
      "(11823, 25)\n"
     ]
    }
   ],
   "source": [
    "print(index_targets.shape)\n",
    "print(index_inputs.shape)\n",
    "print(index_outputs.shape)"
   ]
  },
  {
   "cell_type": "markdown",
   "metadata": {},
   "source": [
    "## 모델 만들기에 필요한 값 선언"
   ]
  },
  {
   "cell_type": "code",
   "execution_count": 8,
   "metadata": {},
   "outputs": [],
   "source": [
    "MODEL_NAME = 'seq2seq_kor'\n",
    "BATCH_SIZE = 2\n",
    "MAX_SEQUENCE = 25\n",
    "EPOCH = 30\n",
    "UNITS = 1024\n",
    "EMBEDDING_DIM = 256\n",
    "VALIDATION_SPLIT = 0.1 \n",
    "\n",
    "word2idx = prepro_configs['word2idx']\n",
    "idx2word = prepro_configs['idx2word']\n",
    "std_index = prepro_configs['std_symbol']\n",
    "end_index = prepro_configs['end_symbol']\n",
    "vocab_size = prepro_configs['vocab_size']"
   ]
  },
  {
   "cell_type": "markdown",
   "metadata": {},
   "source": [
    "# 모델 "
   ]
  },
  {
   "cell_type": "markdown",
   "metadata": {},
   "source": [
    "## 인코더"
   ]
  },
  {
   "cell_type": "code",
   "execution_count": 9,
   "metadata": {},
   "outputs": [],
   "source": [
    "class Encoder(tf.keras.layers.Layer):\n",
    "    def __init__(self, vocab_size, embedding_dim, enc_units, batch_sz):\n",
    "        super(Encoder, self).__init__()\n",
    "        self.batch_sz = batch_sz\n",
    "        self.enc_units = enc_units\n",
    "        self.vocab_size = vocab_size \n",
    "        self.embedding_dim = embedding_dim          \n",
    "        \n",
    "        self.embedding = tf.keras.layers.Embedding(self.vocab_size, self.embedding_dim)\n",
    "        self.gru = tf.keras.layers.GRU(self.enc_units,\n",
    "                                       return_sequences=True,\n",
    "                                       return_state=True,\n",
    "                                       recurrent_initializer='glorot_uniform')\n",
    "\n",
    "    def call(self, x, hidden):\n",
    "        x = self.embedding(x)\n",
    "        output, state = self.gru(x, initial_state = hidden)\n",
    "        return output, state\n",
    "\n",
    "    def initialize_hidden_state(self, inp):\n",
    "        return tf.zeros((tf.shape(inp)[0], self.enc_units))"
   ]
  },
  {
   "cell_type": "markdown",
   "metadata": {},
   "source": [
    "## 어텐션"
   ]
  },
  {
   "cell_type": "code",
   "execution_count": 10,
   "metadata": {},
   "outputs": [],
   "source": [
    "class BahdanauAttention(tf.keras.layers.Layer):\n",
    "    def __init__(self, units):\n",
    "        super(BahdanauAttention, self).__init__()\n",
    "        self.W1 = tf.keras.layers.Dense(units)\n",
    "        self.W2 = tf.keras.layers.Dense(units)\n",
    "        self.V = tf.keras.layers.Dense(1)\n",
    "\n",
    "    def call(self, query, values):\n",
    "        hidden_with_time_axis = tf.expand_dims(query, 1)\n",
    "\n",
    "        score = self.V(tf.nn.tanh(\n",
    "            self.W1(values) + self.W2(hidden_with_time_axis)))\n",
    "\n",
    "        attention_weights = tf.nn.softmax(score, axis=1)\n",
    "\n",
    "        context_vector = attention_weights * values\n",
    "        context_vector = tf.reduce_sum(context_vector, axis=1)\n",
    "\n",
    "        return context_vector, attention_weights"
   ]
  },
  {
   "cell_type": "markdown",
   "metadata": {},
   "source": [
    "## 디코더"
   ]
  },
  {
   "cell_type": "code",
   "execution_count": 11,
   "metadata": {},
   "outputs": [],
   "source": [
    "class Decoder(tf.keras.layers.Layer):\n",
    "    def __init__(self, vocab_size, embedding_dim, dec_units, batch_sz):\n",
    "        super(Decoder, self).__init__()\n",
    "        \n",
    "        self.batch_sz = batch_sz\n",
    "        self.dec_units = dec_units\n",
    "        self.vocab_size = vocab_size \n",
    "        self.embedding_dim = embedding_dim  \n",
    "        \n",
    "        self.embedding = tf.keras.layers.Embedding(self.vocab_size, self.embedding_dim)\n",
    "        self.gru = tf.keras.layers.GRU(self.dec_units,\n",
    "                                       return_sequences=True,\n",
    "                                       return_state=True,\n",
    "                                       recurrent_initializer='glorot_uniform')\n",
    "        self.fc = tf.keras.layers.Dense(self.vocab_size)\n",
    "\n",
    "        self.attention = BahdanauAttention(self.dec_units)\n",
    "        \n",
    "    def call(self, x, hidden, enc_output):\n",
    "        context_vector, attention_weights = self.attention(hidden, enc_output)\n",
    "\n",
    "        x = self.embedding(x)\n",
    "\n",
    "        x = tf.concat([tf.expand_dims(context_vector, 1), x], axis=-1)\n",
    "\n",
    "        output, state = self.gru(x)\n",
    "        output = tf.reshape(output, (-1, output.shape[2]))\n",
    "            \n",
    "        x = self.fc(output)\n",
    "        \n",
    "        return x, state, attention_weights"
   ]
  },
  {
   "cell_type": "code",
   "execution_count": 14,
   "metadata": {},
   "outputs": [],
   "source": [
    "optimizer = tf.keras.optimizers.Adam()\n",
    "\n",
    "loss_object = tf.keras.losses.SparseCategoricalCrossentropy(from_logits=True, reduction='none')\n",
    "\n",
    "train_accuracy = tf.keras.metrics.SparseCategoricalAccuracy(name='accuracy')\n",
    "\n",
    "def loss(real, pred):\n",
    "    mask = tf.math.logical_not(tf.math.equal(real, 0))\n",
    "    loss_ = loss_object(real, pred)\n",
    "    mask = tf.cast(mask, dtype=loss_.dtype)\n",
    "    loss_ *= mask\n",
    "    return tf.reduce_mean(loss_)\n",
    "\n",
    "def accuracy(real, pred):\n",
    "    mask = tf.math.logical_not(tf.math.equal(real, 0))\n",
    "    mask = tf.expand_dims(tf.cast(mask, dtype=pred.dtype), axis=-1)\n",
    "    pred *= mask    \n",
    "    acc = train_accuracy(real, pred)\n",
    "\n",
    "    return tf.reduce_mean(acc)"
   ]
  },
  {
   "cell_type": "markdown",
   "metadata": {},
   "source": [
    "## 시퀀스 투 스퀀스 모델"
   ]
  },
  {
   "cell_type": "code",
   "execution_count": 15,
   "metadata": {},
   "outputs": [],
   "source": [
    "class seq2seq(tf.keras.Model):\n",
    "    def __init__(self, vocab_size, embedding_dim, enc_units, dec_units, batch_sz, end_token_idx=2):    \n",
    "        super(seq2seq, self).__init__()\n",
    "        self.end_token_idx = end_token_idx\n",
    "        self.encoder = Encoder(vocab_size, embedding_dim, enc_units, batch_sz) \n",
    "        self.decoder = Decoder(vocab_size, embedding_dim, dec_units, batch_sz) \n",
    "\n",
    "    def call(self, x):\n",
    "        inp, tar = x\n",
    "        \n",
    "        enc_hidden = self.encoder.initialize_hidden_state(inp)\n",
    "        enc_output, enc_hidden = self.encoder(inp, enc_hidden)\n",
    "\n",
    "        dec_hidden = enc_hidden\n",
    "\n",
    "        predict_tokens = list()\n",
    "        for t in range(0, tar.shape[1]):\n",
    "            dec_input = tf.dtypes.cast(tf.expand_dims(tar[:, t], 1), tf.float32) \n",
    "            predictions, dec_hidden, _ = self.decoder(dec_input, dec_hidden, enc_output)\n",
    "            predict_tokens.append(tf.dtypes.cast(predictions, tf.float32))   \n",
    "        return tf.stack(predict_tokens, axis=1)\n",
    "    \n",
    "    def inference(self, x):\n",
    "        inp  = x\n",
    "\n",
    "        enc_hidden = self.encoder.initialize_hidden_state(inp)\n",
    "        enc_output, enc_hidden = self.encoder(inp, enc_hidden)\n",
    "\n",
    "        dec_hidden = enc_hidden\n",
    "        \n",
    "        dec_input = tf.expand_dims([word2idx[std_index]], 1)\n",
    "        \n",
    "        predict_tokens = list()\n",
    "        for t in range(0, MAX_SEQUENCE):\n",
    "            predictions, dec_hidden, _ = self.decoder(dec_input, dec_hidden, enc_output)\n",
    "            predict_token = tf.argmax(predictions[0])\n",
    "            \n",
    "            if predict_token == self.end_token_idx:\n",
    "                break\n",
    "            \n",
    "            predict_tokens.append(predict_token)\n",
    "            dec_input = tf.dtypes.cast(tf.expand_dims([predict_token], 0), tf.float32)   \n",
    "            \n",
    "        return tf.stack(predict_tokens, axis=0).numpy()"
   ]
  },
  {
   "cell_type": "code",
   "execution_count": 16,
   "metadata": {},
   "outputs": [],
   "source": [
    "model = seq2seq(vocab_size, EMBEDDING_DIM, UNITS, UNITS, BATCH_SIZE, word2idx[end_index])\n",
    "model.compile(loss=loss, optimizer=tf.keras.optimizers.Adam(1e-3), metrics=[accuracy])\n",
    "#model.run_eagerly = True"
   ]
  },
  {
   "cell_type": "markdown",
   "metadata": {},
   "source": [
    "## 학습 진행"
   ]
  },
  {
   "cell_type": "code",
   "execution_count": 18,
   "metadata": {
    "scrolled": true
   },
   "outputs": [
    {
     "name": "stdout",
     "output_type": "stream",
     "text": [
      "Epoch 1/30\n",
      "5320/5320 [==============================] - 976s 183ms/step - loss: 1.2583 - accuracy: 0.8567 - val_loss: 1.4708 - val_accuracy: 0.8547\n",
      "Epoch 2/30\n",
      "5320/5320 [==============================] - 1001s 188ms/step - loss: 1.0629 - accuracy: 0.8562 - val_loss: 1.5238 - val_accuracy: 0.8571\n",
      "Epoch 3/30\n",
      "5320/5320 [==============================] - 1014s 191ms/step - loss: 0.8929 - accuracy: 0.8590 - val_loss: 1.6041 - val_accuracy: 0.8608\n",
      "Epoch 4/30\n",
      "5320/5320 [==============================] - 982s 185ms/step - loss: 0.6421 - accuracy: 0.8642 - val_loss: 1.7153 - val_accuracy: 0.8675\n",
      "Epoch 5/30\n",
      "5320/5320 [==============================] - 968s 182ms/step - loss: 0.3686 - accuracy: 0.8730 - val_loss: 1.9470 - val_accuracy: 0.8778\n",
      "Epoch 6/30\n",
      "5320/5320 [==============================] - 952s 179ms/step - loss: 0.1830 - accuracy: 0.8841 - val_loss: 2.1494 - val_accuracy: 0.8895\n",
      "Epoch 7/30\n",
      "5320/5320 [==============================] - 1030s 194ms/step - loss: 0.0935 - accuracy: 0.8952 - val_loss: 2.2367 - val_accuracy: 0.9001\n",
      "Epoch 8/30\n",
      "5320/5320 [==============================] - 989s 186ms/step - loss: 0.0545 - accuracy: 0.9049 - val_loss: 2.3905 - val_accuracy: 0.9091\n",
      "Epoch 9/30\n",
      "5320/5320 [==============================] - 984s 185ms/step - loss: 0.0340 - accuracy: 0.9131 - val_loss: 2.4807 - val_accuracy: 0.9166\n",
      "Epoch 10/30\n",
      "5320/5320 [==============================] - 954s 179ms/step - loss: 0.0251 - accuracy: 0.9198 - val_loss: 2.5240 - val_accuracy: 0.9228\n",
      "Epoch 11/30\n",
      "5320/5320 [==============================] - 1006s 189ms/step - loss: 0.0191 - accuracy: 0.9255 - val_loss: 2.6087 - val_accuracy: 0.9279\n",
      "Epoch 12/30\n",
      "5320/5320 [==============================] - 1019s 192ms/step - loss: 0.0155 - accuracy: 0.9302 - val_loss: 2.6425 - val_accuracy: 0.9323\n",
      "Epoch 13/30\n",
      "5320/5320 [==============================] - 984s 185ms/step - loss: 0.0137 - accuracy: 0.9343 - val_loss: 2.6394 - val_accuracy: 0.9360\n",
      "Epoch 14/30\n",
      "5320/5320 [==============================] - 965s 181ms/step - loss: 0.0127 - accuracy: 0.9377 - val_loss: 2.7354 - val_accuracy: 0.9393\n",
      "Epoch 15/30\n",
      "5320/5320 [==============================] - 982s 185ms/step - loss: 0.0114 - accuracy: 0.9407 - val_loss: 2.7821 - val_accuracy: 0.9421\n",
      "Epoch 16/30\n",
      "5320/5320 [==============================] - 970s 182ms/step - loss: 0.0107 - accuracy: 0.9433 - val_loss: 2.7496 - val_accuracy: 0.9445\n",
      "Epoch 17/30\n",
      "5320/5320 [==============================] - 1007s 189ms/step - loss: 0.0093 - accuracy: 0.9456 - val_loss: 2.8052 - val_accuracy: 0.9467\n",
      "Epoch 18/30\n",
      "5320/5320 [==============================] - 987s 186ms/step - loss: 0.0093 - accuracy: 0.9477 - val_loss: 2.7826 - val_accuracy: 0.9486\n",
      "Epoch 19/30\n",
      "5320/5320 [==============================] - 962s 181ms/step - loss: 0.0086 - accuracy: 0.9495 - val_loss: 2.8171 - val_accuracy: 0.9504\n",
      "Epoch 20/30\n",
      "5320/5320 [==============================] - 993s 187ms/step - loss: 0.0085 - accuracy: 0.9512 - val_loss: 2.8882 - val_accuracy: 0.9519\n",
      "Epoch 21/30\n",
      "5320/5320 [==============================] - 966s 182ms/step - loss: 0.0081 - accuracy: 0.9527 - val_loss: 2.8965 - val_accuracy: 0.9534\n",
      "Epoch 22/30\n",
      "5320/5320 [==============================] - 962s 181ms/step - loss: 0.0081 - accuracy: 0.9540 - val_loss: 2.9525 - val_accuracy: 0.9547\n",
      "Epoch 23/30\n",
      "5320/5320 [==============================] - 994s 187ms/step - loss: 0.0079 - accuracy: 0.9553 - val_loss: 2.9751 - val_accuracy: 0.9559\n",
      "Epoch 24/30\n",
      "5320/5320 [==============================] - 1027s 193ms/step - loss: 0.0070 - accuracy: 0.9564 - val_loss: 3.0281 - val_accuracy: 0.9569\n",
      "Epoch 25/30\n",
      "5320/5320 [==============================] - 1024s 192ms/step - loss: 0.0065 - accuracy: 0.9575 - val_loss: 2.9241 - val_accuracy: 0.9580.0065 - accuracy - ETA: 8s - loss: 0.0065 - accura -\n",
      "Epoch 26/30\n",
      "5320/5320 [==============================] - 1020s 192ms/step - loss: 0.0074 - accuracy: 0.9584 - val_loss: 3.0080 - val_accuracy: 0.9589\n",
      "Epoch 27/30\n",
      "5320/5320 [==============================] - 1004s 189ms/step - loss: 0.0064 - accuracy: 0.9593 - val_loss: 2.9739 - val_accuracy: 0.9597\n",
      "Epoch 28/30\n",
      "5320/5320 [==============================] - 981s 184ms/step - loss: 0.0066 - accuracy: 0.9602 - val_loss: 2.9560 - val_accuracy: 0.9605\n",
      "Epoch 29/30\n",
      "5320/5320 [==============================] - 994s 187ms/step - loss: 0.0065 - accuracy: 0.9609 - val_loss: 3.0316 - val_accuracy: 0.9613\n",
      "Epoch 30/30\n",
      "5320/5320 [==============================] - 965s 181ms/step - loss: 0.0061 - accuracy: 0.9616 - val_loss: 3.0367 - val_accuracy: 0.9620\n"
     ]
    }
   ],
   "source": [
    "PATH = DATA_OUT_PATH + MODEL_NAME\n",
    "if not(os.path.isdir(PATH)):\n",
    "        os.makedirs(os.path.join(PATH))\n",
    "        \n",
    "checkpoint_path = DATA_OUT_PATH + MODEL_NAME + '/weights_no_token.h5'\n",
    "    \n",
    "cp_callback = ModelCheckpoint(\n",
    "    checkpoint_path, monitor='val_accuracy', verbose=0, save_best_only=True, save_weights_only=True)\n",
    "\n",
    "earlystop_callback = EarlyStopping(monitor='val_accuracy', min_delta=0.0001, patience=10)\n",
    "\n",
    "history = model.fit([index_inputs, index_outputs], index_targets,\n",
    "                        batch_size=BATCH_SIZE, epochs=EPOCH,\n",
    "                    validation_split=VALIDATION_SPLIT, callbacks=[earlystop_callback, cp_callback])"
   ]
  },
  {
   "cell_type": "markdown",
   "metadata": {},
   "source": [
    "## 결과 플롯"
   ]
  },
  {
   "cell_type": "code",
   "execution_count": 19,
   "metadata": {},
   "outputs": [
    {
     "data": {
      "image/png": "[encoded data removed]",
      "text/plain": [
       "<Figure size 432x288 with 1 Axes>"
      ]
     },
     "metadata": {
      "needs_background": "light"
     },
     "output_type": "display_data"
    }
   ],
   "source": [
    "plot_graphs(history, 'accuracy')"
   ]
  },
  {
   "cell_type": "code",
   "execution_count": 20,
   "metadata": {},
   "outputs": [
    {
     "data": {
      "image/png": "[encoded data removed]",
      "text/plain": [
       "<Figure size 432x288 with 1 Axes>"
      ]
     },
     "metadata": {
      "needs_background": "light"
     },
     "output_type": "display_data"
    }
   ],
   "source": [
    "plot_graphs(history, 'loss')"
   ]
  },
  {
   "cell_type": "markdown",
   "metadata": {},
   "source": [
    "### 결과 확인"
   ]
  },
  {
   "cell_type": "code",
   "execution_count": 21,
   "metadata": {},
   "outputs": [],
   "source": [
    "SAVE_FILE_NM = \"weights_no_token.h5\"\n",
    "model.load_weights(os.path.join(DATA_OUT_PATH, MODEL_NAME, SAVE_FILE_NM))"
   ]
  },
  {
   "cell_type": "code",
   "execution_count": 28,
   "metadata": {},
   "outputs": [
    {
     "name": "stdout",
     "output_type": "stream",
     "text": [
      "[10474  5726 12669 13782]\n",
      "평소에 필요한 것 같아요.\n"
     ]
    }
   ],
   "source": [
    "query = \"남자친구 승진 선물은 뭐로하면 좋을까?\"\n",
    "\n",
    "test_index_inputs, _ = enc_processing([query], word2idx)    \n",
    "predict_tokens = model.inference(test_index_inputs)\n",
    "print(predict_tokens)\n",
    "\n",
    "print(' '.join([idx2word[str(t)] for t in predict_tokens]))"
   ]
  },
  {
   "cell_type": "code",
   "execution_count": null,
   "metadata": {},
   "outputs": [],
   "source": []
  },
  {
   "cell_type": "code",
   "execution_count": null,
   "metadata": {},
   "outputs": [],
   "source": []
  }
 ],
 "metadata": {
  "kernelspec": {
   "display_name": "Python 3",
   "language": "python",
   "name": "python3"
  },
  "language_info": {
   "codemirror_mode": {
    "name": "ipython",
    "version": 3
   },
   "file_extension": ".py",
   "mimetype": "text/x-python",
   "name": "python",
   "nbconvert_exporter": "python",
   "pygments_lexer": "ipython3",
   "version": "3.7.9"
  }
 },
 "nbformat": 4,
 "nbformat_minor": 4
}
