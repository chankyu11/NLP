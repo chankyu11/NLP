{
 "cells": [
  {
   "cell_type": "code",
   "execution_count": 1,
   "metadata": {},
   "outputs": [],
   "source": [
    "import os\n",
    "import re\n",
    "\n",
    "import pandas as pd\n",
    "import numpy as np\n",
    "\n",
    "from bs4 import BeautifulSoup\n",
    "from nltk.corpus import stopwords\n",
    "from nltk.tokenize import word_tokenize"
   ]
  },
  {
   "cell_type": "code",
   "execution_count": 2,
   "metadata": {},
   "outputs": [],
   "source": [
    "data_path = 'C:/Users/bitcamp/Desktop/NLP/NLP/tensorflow-ml-nlp-tf2/4.TEXT_CLASSIFICATION/data_in/'\n",
    "train_clean_data = 'train_clean.csv'"
   ]
  },
  {
   "cell_type": "code",
   "execution_count": 3,
   "metadata": {},
   "outputs": [],
   "source": [
    "train_data = pd.read_csv(data_path + train_clean_data)"
   ]
  },
  {
   "cell_type": "code",
   "execution_count": 4,
   "metadata": {},
   "outputs": [
    {
     "name": "stdout",
     "output_type": "stream",
     "text": [
      "(25000, 2)\n"
     ]
    }
   ],
   "source": [
    "print(train_data.shape)"
   ]
  },
  {
   "cell_type": "code",
   "execution_count": 5,
   "metadata": {},
   "outputs": [],
   "source": [
    "reviews = list(train_data['review'])\n",
    "sentiments = list(train_data['sentiment'])"
   ]
  },
  {
   "cell_type": "code",
   "execution_count": 6,
   "metadata": {},
   "outputs": [
    {
     "name": "stdout",
     "output_type": "stream",
     "text": [
      "['stuff', 'going', 'moment', 'mj', 'started', 'listening', 'music', 'watching', 'odd', 'documentary', 'watched', 'wiz', 'watched', 'moonwalker', 'maybe', 'want', 'get', 'certain', 'insight', 'guy', 'thought', 'really', 'cool', 'eighties', 'maybe', 'make', 'mind', 'whether', 'guilty', 'innocent', 'moonwalker', 'part', 'biography', 'part', 'feature', 'film', 'remember', 'going', 'see', 'cinema', 'originally', 'released', 'subtle', 'messages', 'mj', 'feeling', 'towards', 'press', 'also', 'obvious', 'message', 'drugs', 'bad', 'kay', 'visually', 'impressive', 'course', 'michael', 'jackson', 'unless', 'remotely', 'like', 'mj', 'anyway', 'going', 'hate', 'find', 'boring', 'may', 'call', 'mj', 'egotist', 'consenting', 'making', 'movie', 'mj', 'fans', 'would', 'say', 'made', 'fans', 'true', 'really', 'nice', 'actual', 'feature', 'film', 'bit', 'finally', 'starts', 'minutes', 'excluding', 'smooth', 'criminal', 'sequence', 'joe', 'pesci', 'convincing', 'psychopathic', 'powerful', 'drug', 'lord', 'wants', 'mj', 'dead', 'bad', 'beyond', 'mj', 'overheard', 'plans', 'nah', 'joe', 'pesci', 'character', 'ranted', 'wanted', 'people', 'know', 'supplying', 'drugs', 'etc', 'dunno', 'maybe', 'hates', 'mj', 'music', 'lots', 'cool', 'things', 'like', 'mj', 'turning', 'car', 'robot', 'whole', 'speed', 'demon', 'sequence', 'also', 'director', 'must', 'patience', 'saint', 'came', 'filming', 'kiddy', 'bad', 'sequence', 'usually', 'directors', 'hate', 'working', 'one', 'kid', 'let', 'alone', 'whole', 'bunch', 'performing', 'complex', 'dance', 'scene', 'bottom', 'line', 'movie', 'people', 'like', 'mj', 'one', 'level', 'another', 'think', 'people', 'stay', 'away', 'try', 'give', 'wholesome', 'message', 'ironically', 'mj', 'bestest', 'buddy', 'movie', 'girl', 'michael', 'jackson', 'truly', 'one', 'talented', 'people', 'ever', 'grace', 'planet', 'guilty', 'well', 'attention', 'gave', 'subject', 'hmmm', 'well', 'know', 'people', 'different', 'behind', 'closed', 'doors', 'know', 'fact', 'either', 'extremely', 'nice', 'stupid', 'guy', 'one', 'sickest', 'liars', 'hope', 'latter']\n"
     ]
    }
   ],
   "source": [
    "sentences = []\n",
    "for review in reviews:\n",
    "    sentences.append(review.split())\n",
    "print(sentences[0])"
   ]
  },
  {
   "cell_type": "markdown",
   "metadata": {},
   "source": [
    "##### num_features = 300    워드 백터 특징값 수\n",
    "##### min_word_count = 40   단어에 대한 최소 빈도 수\n",
    "##### num_workers = 4       프로세스 개수\n",
    "##### context = 10          컨텍스트 윈도 개수\n",
    "##### downsampling = 1e-3    다운 샘플링 비율"
   ]
  },
  {
   "cell_type": "code",
   "execution_count": 7,
   "metadata": {},
   "outputs": [],
   "source": [
    "num_features = 300    \n",
    "min_word_count = 40   \n",
    "num_workers = 4       \n",
    "context = 10          \n",
    "downsampling = 1e-3 "
   ]
  },
  {
   "cell_type": "code",
   "execution_count": 8,
   "metadata": {},
   "outputs": [],
   "source": [
    "import logging\n",
    "logging.basicConfig(format='%(asctime)s: %(levelname)s : %(message)s', level=logging.INFO)"
   ]
  },
  {
   "cell_type": "code",
   "execution_count": 10,
   "metadata": {},
   "outputs": [
    {
     "name": "stderr",
     "output_type": "stream",
     "text": [
      "2020-10-26 22:41:47,383: INFO : collecting all words and their counts\n",
      "2020-10-26 22:41:47,384: INFO : PROGRESS: at sentence #0, processed 0 words, keeping 0 word types\n",
      "2020-10-26 22:41:47,544: INFO : PROGRESS: at sentence #10000, processed 1205223 words, keeping 51374 word types\n",
      "2020-10-26 22:41:47,711: INFO : PROGRESS: at sentence #20000, processed 2396605 words, keeping 67660 word types\n",
      "2020-10-26 22:41:47,798: INFO : collected 74065 word types from a corpus of 2988089 raw words and 25000 sentences\n",
      "2020-10-26 22:41:47,799: INFO : Loading a fresh vocabulary\n",
      "2020-10-26 22:41:47,898: INFO : effective_min_count=40 retains 8160 unique words (11% of original 74065, drops 65905)\n",
      "2020-10-26 22:41:47,899: INFO : effective_min_count=40 leaves 2627273 word corpus (87% of original 2988089, drops 360816)\n",
      "2020-10-26 22:41:47,916: INFO : deleting the raw counts dictionary of 74065 items\n",
      "2020-10-26 22:41:47,918: INFO : sample=0.001 downsamples 30 most-common words\n",
      "2020-10-26 22:41:47,919: INFO : downsampling leaves estimated 2494384 word corpus (94.9% of prior 2627273)\n",
      "2020-10-26 22:41:47,937: INFO : estimated required memory for 8160 words and 300 dimensions: 23664000 bytes\n",
      "2020-10-26 22:41:47,938: INFO : resetting layer weights\n",
      "2020-10-26 22:41:49,097: INFO : training model with 4 workers on 8160 vocabulary and 300 features, using sg=0 hs=0 sample=0.001 negative=5 window=10\n",
      "2020-10-26 22:41:50,107: INFO : EPOCH 1 - PROGRESS: at 64.40% examples, 1602666 words/s, in_qsize 7, out_qsize 0\n",
      "2020-10-26 22:41:50,629: INFO : worker thread finished; awaiting finish of 3 more threads\n",
      "2020-10-26 22:41:50,635: INFO : worker thread finished; awaiting finish of 2 more threads\n",
      "2020-10-26 22:41:50,637: INFO : worker thread finished; awaiting finish of 1 more threads\n",
      "2020-10-26 22:41:50,640: INFO : worker thread finished; awaiting finish of 0 more threads\n",
      "2020-10-26 22:41:50,641: INFO : EPOCH - 1 : training on 2988089 raw words (2494395 effective words) took 1.5s, 1619377 effective words/s\n",
      "2020-10-26 22:41:51,646: INFO : EPOCH 2 - PROGRESS: at 67.07% examples, 1675341 words/s, in_qsize 7, out_qsize 0\n",
      "2020-10-26 22:41:52,113: INFO : worker thread finished; awaiting finish of 3 more threads\n",
      "2020-10-26 22:41:52,119: INFO : worker thread finished; awaiting finish of 2 more threads\n",
      "2020-10-26 22:41:52,126: INFO : worker thread finished; awaiting finish of 1 more threads\n",
      "2020-10-26 22:41:52,129: INFO : worker thread finished; awaiting finish of 0 more threads\n",
      "2020-10-26 22:41:52,130: INFO : EPOCH - 2 : training on 2988089 raw words (2494217 effective words) took 1.5s, 1677686 effective words/s\n",
      "2020-10-26 22:41:53,134: INFO : EPOCH 3 - PROGRESS: at 64.40% examples, 1610603 words/s, in_qsize 7, out_qsize 0\n",
      "2020-10-26 22:41:53,662: INFO : worker thread finished; awaiting finish of 3 more threads\n",
      "2020-10-26 22:41:53,665: INFO : worker thread finished; awaiting finish of 2 more threads\n",
      "2020-10-26 22:41:53,667: INFO : worker thread finished; awaiting finish of 1 more threads\n",
      "2020-10-26 22:41:53,668: INFO : worker thread finished; awaiting finish of 0 more threads\n",
      "2020-10-26 22:41:53,668: INFO : EPOCH - 3 : training on 2988089 raw words (2494376 effective words) took 1.5s, 1624261 effective words/s\n",
      "2020-10-26 22:41:54,672: INFO : EPOCH 4 - PROGRESS: at 65.72% examples, 1644400 words/s, in_qsize 7, out_qsize 0\n",
      "2020-10-26 22:41:55,164: INFO : worker thread finished; awaiting finish of 3 more threads\n",
      "2020-10-26 22:41:55,166: INFO : worker thread finished; awaiting finish of 2 more threads\n",
      "2020-10-26 22:41:55,169: INFO : worker thread finished; awaiting finish of 1 more threads\n",
      "2020-10-26 22:41:55,170: INFO : worker thread finished; awaiting finish of 0 more threads\n",
      "2020-10-26 22:41:55,170: INFO : EPOCH - 4 : training on 2988089 raw words (2493683 effective words) took 1.5s, 1662575 effective words/s\n",
      "2020-10-26 22:41:56,173: INFO : EPOCH 5 - PROGRESS: at 66.38% examples, 1663303 words/s, in_qsize 7, out_qsize 0\n",
      "2020-10-26 22:41:56,653: INFO : worker thread finished; awaiting finish of 3 more threads\n",
      "2020-10-26 22:41:56,658: INFO : worker thread finished; awaiting finish of 2 more threads\n",
      "2020-10-26 22:41:56,666: INFO : worker thread finished; awaiting finish of 1 more threads\n",
      "2020-10-26 22:41:56,669: INFO : worker thread finished; awaiting finish of 0 more threads\n",
      "2020-10-26 22:41:56,669: INFO : EPOCH - 5 : training on 2988089 raw words (2494300 effective words) took 1.5s, 1667255 effective words/s\n",
      "2020-10-26 22:41:56,669: INFO : training on a 14940445 raw words (12470971 effective words) took 7.6s, 1647161 effective words/s\n"
     ]
    }
   ],
   "source": [
    "from gensim.models import word2vec\n",
    "\n",
    "model = word2vec.Word2Vec(sentences, workers=num_workers, \\\n",
    "           size=num_features, min_count = min_word_count, \\\n",
    "            window = context, sample = downsampling)"
   ]
  },
  {
   "cell_type": "code",
   "execution_count": 11,
   "metadata": {},
   "outputs": [
    {
     "name": "stderr",
     "output_type": "stream",
     "text": [
      "2020-10-26 22:42:56,318: INFO : saving Word2Vec object under 300fratures_40minwords_10context, separately None\n",
      "2020-10-26 22:42:56,319: INFO : not storing attribute vectors_norm\n",
      "2020-10-26 22:42:56,320: INFO : not storing attribute cum_table\n",
      "2020-10-26 22:42:56,461: INFO : saved 300fratures_40minwords_10context\n"
     ]
    }
   ],
   "source": [
    "model_name = \"300fratures_40minwords_10context\"\n",
    "model.save(model_name)"
   ]
  },
  {
   "cell_type": "code",
   "execution_count": 13,
   "metadata": {},
   "outputs": [],
   "source": [
    "def get_features(words, model, num_features):\n",
    "    feature_vector = np.zeros((num_features),dtype=np.float32)\n",
    "\n",
    "    num_words = 0\n",
    "    index2word_set = set(model.wv.index2word)\n",
    "\n",
    "    for w in words:\n",
    "        if w in index2word_set:\n",
    "            num_words += 1\n",
    "            feature_vector = np.add(feature_vector, model[w])\n",
    "\n",
    "    feature_vector = np.divide(feature_vector, num_words)\n",
    "    return feature_vector"
   ]
  },
  {
   "cell_type": "code",
   "execution_count": 14,
   "metadata": {},
   "outputs": [],
   "source": [
    "def get_dataset(reviews, model, num_features):\n",
    "    dataset = list()\n",
    "\n",
    "    for s in reviews:\n",
    "        dataset.append(get_features(s, model, num_features))\n",
    "\n",
    "    reviewFeatureVecs = np.stack(dataset)\n",
    "    \n",
    "    return reviewFeatureVecs"
   ]
  },
  {
   "cell_type": "code",
   "execution_count": 15,
   "metadata": {},
   "outputs": [
    {
     "name": "stderr",
     "output_type": "stream",
     "text": [
      "c:\\users\\bitcamp\\anaconda3\\envs\\nlp\\lib\\site-packages\\ipykernel_launcher.py:10: DeprecationWarning: Call to deprecated `__getitem__` (Method will be removed in 4.0.0, use self.wv.__getitem__() instead).\n",
      "  # Remove the CWD from sys.path while we load stuff.\n"
     ]
    }
   ],
   "source": [
    "test_data_vecs = get_dataset(sentences, model, num_features)"
   ]
  },
  {
   "cell_type": "code",
   "execution_count": 16,
   "metadata": {},
   "outputs": [],
   "source": [
    "from sklearn.model_selection import train_test_split"
   ]
  },
  {
   "cell_type": "code",
   "execution_count": 18,
   "metadata": {},
   "outputs": [],
   "source": [
    "x = test_data_vecs\n",
    "y = np.array(sentiments)\n",
    "\n",
    "x_train, x_test, y_train, y_test = train_test_split(x, y, test_size = 0.2, random_state = 42) \n"
   ]
  },
  {
   "cell_type": "code",
   "execution_count": 19,
   "metadata": {},
   "outputs": [],
   "source": [
    "from sklearn.linear_model import LogisticRegression"
   ]
  },
  {
   "cell_type": "code",
   "execution_count": 26,
   "metadata": {},
   "outputs": [
    {
     "name": "stdout",
     "output_type": "stream",
     "text": [
      "Acc: 0.864600\n"
     ]
    },
    {
     "name": "stderr",
     "output_type": "stream",
     "text": [
      "c:\\users\\bitcamp\\anaconda3\\envs\\nlp\\lib\\site-packages\\sklearn\\linear_model\\_logistic.py:764: ConvergenceWarning: lbfgs failed to converge (status=1):\n",
      "STOP: TOTAL NO. of ITERATIONS REACHED LIMIT.\n",
      "\n",
      "Increase the number of iterations (max_iter) or scale the data as shown in:\n",
      "    https://scikit-learn.org/stable/modules/preprocessing.html\n",
      "Please also refer to the documentation for alternative solver options:\n",
      "    https://scikit-learn.org/stable/modules/linear_model.html#logistic-regression\n",
      "  extra_warning_msg=_LOGISTIC_SOLVER_CONVERGENCE_MSG)\n"
     ]
    }
   ],
   "source": [
    "lgs = LogisticRegression(class_weight = 'balanced')\n",
    "lgs.fit(x_train, y_train)\n",
    "\n",
    "print(\"Acc: %f\" %lgs.score(x_test, y_test))"
   ]
  },
  {
   "cell_type": "code",
   "execution_count": 29,
   "metadata": {},
   "outputs": [],
   "source": [
    "test_clean = 'test_clean.csv'\n",
    "\n",
    "test_data = pd.read_csv(data_path + test_clean)\n",
    "\n",
    "test_review = list(test_data['review'])\n"
   ]
  },
  {
   "cell_type": "code",
   "execution_count": 45,
   "metadata": {},
   "outputs": [
    {
     "data": {
      "text/html": [
       "<div>\n",
       "<style scoped>\n",
       "    .dataframe tbody tr th:only-of-type {\n",
       "        vertical-align: middle;\n",
       "    }\n",
       "\n",
       "    .dataframe tbody tr th {\n",
       "        vertical-align: top;\n",
       "    }\n",
       "\n",
       "    .dataframe thead th {\n",
       "        text-align: right;\n",
       "    }\n",
       "</style>\n",
       "<table border=\"1\" class=\"dataframe\">\n",
       "  <thead>\n",
       "    <tr style=\"text-align: right;\">\n",
       "      <th></th>\n",
       "      <th>review</th>\n",
       "      <th>id</th>\n",
       "    </tr>\n",
       "  </thead>\n",
       "  <tbody>\n",
       "    <tr>\n",
       "      <th>0</th>\n",
       "      <td>naturally film main themes mortality nostalgia...</td>\n",
       "      <td>\"12311_10\"</td>\n",
       "    </tr>\n",
       "    <tr>\n",
       "      <th>1</th>\n",
       "      <td>movie disaster within disaster film full great...</td>\n",
       "      <td>\"8348_2\"</td>\n",
       "    </tr>\n",
       "    <tr>\n",
       "      <th>2</th>\n",
       "      <td>movie kids saw tonight child loved one point k...</td>\n",
       "      <td>\"5828_4\"</td>\n",
       "    </tr>\n",
       "    <tr>\n",
       "      <th>3</th>\n",
       "      <td>afraid dark left impression several different ...</td>\n",
       "      <td>\"7186_2\"</td>\n",
       "    </tr>\n",
       "    <tr>\n",
       "      <th>4</th>\n",
       "      <td>accurate depiction small time mob life filmed ...</td>\n",
       "      <td>\"12128_7\"</td>\n",
       "    </tr>\n",
       "  </tbody>\n",
       "</table>\n",
       "</div>"
      ],
      "text/plain": [
       "                                              review          id\n",
       "0  naturally film main themes mortality nostalgia...  \"12311_10\"\n",
       "1  movie disaster within disaster film full great...    \"8348_2\"\n",
       "2  movie kids saw tonight child loved one point k...    \"5828_4\"\n",
       "3  afraid dark left impression several different ...    \"7186_2\"\n",
       "4  accurate depiction small time mob life filmed ...   \"12128_7\""
      ]
     },
     "execution_count": 45,
     "metadata": {},
     "output_type": "execute_result"
    }
   ],
   "source": [
    "test_data.head()"
   ]
  },
  {
   "cell_type": "code",
   "execution_count": 53,
   "metadata": {},
   "outputs": [],
   "source": [
    "test_sentences = []\n",
    "for data in test_review:\n",
    "    test_sentences.append(data.split())\n",
    "    "
   ]
  },
  {
   "cell_type": "code",
   "execution_count": 56,
   "metadata": {},
   "outputs": [
    {
     "name": "stderr",
     "output_type": "stream",
     "text": [
      "IOPub data rate exceeded.\n",
      "The notebook server will temporarily stop sending output\n",
      "to the client in order to avoid crashing it.\n",
      "To change this limit, set the config variable\n",
      "`--NotebookApp.iopub_data_rate_limit`.\n",
      "\n",
      "Current values:\n",
      "NotebookApp.iopub_data_rate_limit=1000000.0 (bytes/sec)\n",
      "NotebookApp.rate_limit_window=3.0 (secs)\n",
      "\n"
     ]
    }
   ],
   "source": [
    "print(test_sentences[:])"
   ]
  },
  {
   "cell_type": "code",
   "execution_count": 57,
   "metadata": {},
   "outputs": [
    {
     "name": "stderr",
     "output_type": "stream",
     "text": [
      "c:\\users\\bitcamp\\anaconda3\\envs\\nlp\\lib\\site-packages\\ipykernel_launcher.py:10: DeprecationWarning: Call to deprecated `__getitem__` (Method will be removed in 4.0.0, use self.wv.__getitem__() instead).\n",
      "  # Remove the CWD from sys.path while we load stuff.\n"
     ]
    }
   ],
   "source": [
    "test_data_vecs = get_dataset(test_sentences, model, num_features)"
   ]
  },
  {
   "cell_type": "code",
   "execution_count": 58,
   "metadata": {},
   "outputs": [
    {
     "name": "stdout",
     "output_type": "stream",
     "text": [
      "pred [1 0 1 ... 0 1 1]\n"
     ]
    }
   ],
   "source": [
    "pred = lgs.predict(test_data_vecs)\n",
    "print(\"pred\",pred)"
   ]
  },
  {
   "cell_type": "code",
   "execution_count": 59,
   "metadata": {},
   "outputs": [],
   "source": [
    "ids = list(test_data['id'])\n",
    "\n",
    "ans = pd.DataFrame({'id': ids, 'sentiment': pred})"
   ]
  },
  {
   "cell_type": "code",
   "execution_count": 63,
   "metadata": {},
   "outputs": [],
   "source": [
    "op = 'C:/Users/bitcamp/Desktop/NLP/NLP/tensorflow-ml-nlp-tf2/4.TEXT_CLASSIFICATION/output/'\n",
    "  \n",
    "if not os.path.exists(op):\n",
    "    os.makedirs(op)\n",
    "\n",
    "ans.to_csv(op + 'lgs_w2v.csv', index=False, quoting=3)"
   ]
  },
  {
   "cell_type": "code",
   "execution_count": null,
   "metadata": {},
   "outputs": [],
   "source": []
  }
 ],
 "metadata": {
  "kernelspec": {
   "display_name": "Python 3",
   "language": "python",
   "name": "python3"
  },
  "language_info": {
   "codemirror_mode": {
    "name": "ipython",
    "version": 3
   },
   "file_extension": ".py",
   "mimetype": "text/x-python",
   "name": "python",
   "nbconvert_exporter": "python",
   "pygments_lexer": "ipython3",
   "version": "3.7.9"
  }
 },
 "nbformat": 4,
 "nbformat_minor": 4
}
